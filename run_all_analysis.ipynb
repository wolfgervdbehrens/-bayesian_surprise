{
 "cells": [
  {
   "cell_type": "markdown",
   "metadata": {},
   "source": [
    "# Conduct All Analysis"
   ]
  },
  {
   "cell_type": "markdown",
   "metadata": {},
   "source": [
    "## 1) Import required packages and functions"
   ]
  },
  {
   "cell_type": "code",
   "execution_count": 1,
   "metadata": {},
   "outputs": [],
   "source": [
    "#Import required packages\n",
    "import pickle\n",
    "import os\n",
    "import ipywidgets\n",
    "import csv\n",
    "import numpy as np\n",
    "from ipywidgets import Layout, HBox, VBox\n",
    "from IPython.display import display\n",
    "\n",
    "#Import created functions\n",
    "from meta_analysis_mua import *\n",
    "from meta_analysis_preprobe_mua import *\n",
    "from meta_analysis_psd import *\n",
    "from meta_analysis_wavelet import * \n",
    "from meta_analysis_lfp import *\n",
    "from meta_analysis_distance_probe import *\n",
    "\n",
    "#Identify current working directory\n",
    "cwd = os.getcwd()\n",
    "\n",
    "#Create Analysis Folder\n",
    "if not os.path.exists(cwd + '/Analysis'):\n",
    "    os.mkdir(cwd + '/Analysis')"
   ]
  },
  {
   "cell_type": "markdown",
   "metadata": {},
   "source": [
    "## 2) Run MUA Analysis"
   ]
  },
  {
   "cell_type": "code",
   "execution_count": null,
   "metadata": {},
   "outputs": [],
   "source": [
    "###Pre-Probe Control Analysis\n",
    "#S1 C1 Principal Column\n",
    "df1, df2 = pullDataPreProbe_MUA(cwd + '/Data/S1_SummaryData_MUA.pickle', 1)\n",
    "trialbytrial_preprobe_MUA(df1, df2, 'S1_C1_Principal_Column', 'cortex', cwd)\n",
    "\n",
    "#S1 non-Principal Column\n",
    "df1, df2 = pullDataPreProbe_MUA(cwd + '/Data/S1_SummaryData_MUA.pickle',  0)\n",
    "trialbytrial_preprobe_MUA(df1, df2, 'S1_non-Principal_Column', 'cortex', cwd)\n",
    "\n",
    "#S2\n",
    "df1, df2 = pullDataPreProbe_MUA(cwd + '/Data/S2_SummaryData_MUA.pickle', 0)\n",
    "trialbytrial_preprobe_MUA(df1, df2, 'S2', 'cortex', cwd)\n",
    "\n",
    "#Thalamus\n",
    "df1, df2 = pullDataPreProbe_MUA(cwd + '/Data/Thalamus_SummaryData_MUA.pickle', 0)\n",
    "trialbytrial_preprobe_MUA(df1, df2, 'VPM', 'thalamus', cwd)\n",
    "\n",
    "df1, df2 = pullDataPreProbe_MUA(cwd + '/Data/Thalamus_SummaryData_MUA.pickle', 1)\n",
    "trialbytrial_preprobe_MUA(df1, df2, 'POM', 'thalamus', cwd)\n",
    "\n",
    "###Primary Analysis\n",
    "#Probe\n",
    "#S1 C1 Principal Column\n",
    "df1, df2 = pullData_MUA(cwd + '/Data/S1_SummaryData_MUA.pickle', 'probe', 1)\n",
    "trialbytrial_MUA(df1, df2, 'S1_C1_Principal_Column', 'probe', cwd)\n",
    "\n",
    "#S1 non-Principal Column\n",
    "df1, df2 = pullData_MUA(cwd + '/Data/S1_SummaryData_MUA.pickle', 'probe', 0)\n",
    "trialbytrial_MUA(df1, df2, 'S1_non-Principal_Column', 'probe', cwd)\n",
    "\n",
    "#S2\n",
    "df1, df2 = pullData_MUA(cwd + '/Data/S2_SummaryData_MUA.pickle', 'probe', 0)\n",
    "trialbytrial_MUA(df1, df2, 'S2', 'probe', cwd)\n",
    "\n",
    "#Thalamus\n",
    "df1, df2 = pullData_MUA(cwd + '/Data/Thalamus_SummaryData_MUA.pickle', 'probe', 0)\n",
    "trialbytrial_MUA_thalamus(df1, df2, 'VPM', 'probe', cwd)\n",
    "\n",
    "df1, df2 = pullData_MUA(cwd + '/Data/Thalamus_SummaryData_MUA.pickle', 'probe', 1)\n",
    "trialbytrial_MUA_thalamus(df1, df2, 'POM', 'probe', cwd)\n",
    "\n",
    "#Context\n",
    "#S1 C1 Principal Column\n",
    "df1, df2 = pullData_MUA(cwd + '/Data/S1_SummaryData_MUA.pickle', 'context', 1)\n",
    "trialbytrial_MUA(df1, df2, 'S1_C1_Principal_Column', 'context', cwd)\n",
    "\n",
    "#S2\n",
    "df1, df2 = pullData_MUA(cwd + '/Data/S2_SummaryData_MUA.pickle', 'context', 0)\n",
    "trialbytrial_MUA(df1, df2, 'S2', 'context', cwd)"
   ]
  },
  {
   "cell_type": "markdown",
   "metadata": {},
   "source": [
    "## 3) Run PSD Analysis"
   ]
  },
  {
   "cell_type": "code",
   "execution_count": null,
   "metadata": {},
   "outputs": [],
   "source": [
    "#Probe\n",
    "df1, df2, freqs = pullDataPSD(cwd + '/Data/S1_SummaryData_LFP-PSD.pickle', 'probe', 1, 'post')\n",
    "trialbytrialPSD(cwd, df1, df2, 'S1_C1_Principal_Column', 'probe', 'post', freqs)\n",
    "\n",
    "df1, df2, freqs = pullDataPSD(cwd + '/Data/S2_SummaryData_LFP-PSD.pickle', 'probe', 0, 'post')\n",
    "trialbytrialPSD(cwd, df1, df2, 'S2', 'probe', 'post', freqs)\n",
    "\n",
    "#Context\n",
    "df1, df2, freqs = pullDataPSD(cwd + '/Data/S1_SummaryData_LFP-PSD.pickle', 'context', 1, 'post')\n",
    "trialbytrialPSD(cwd, df1, df2, 'S1_C1_Principal_Column', 'context', 'post', freqs)\n",
    "\n",
    "df1, df2, freqs = pullDataPSD(cwd + '/Data/S2_SummaryData_LFP-PSD.pickle', 'context', 0, 'post')\n",
    "trialbytrialPSD(cwd, df1, df2, 'S2', 'context', 'post', freqs)\n",
    "\n",
    "###Ketamine Condition\n",
    "#Probe\n",
    "df1, df2, freqs = pullDataPSD(cwd + '/Data/S1_Ketamine_SummaryData_LFP-PSD.pickle', 'probe', 1, 'post')\n",
    "trialbytrialPSD(cwd, df1, df2, 'S1_C1_Principal_Column_Ketamine', 'probe', 'post', freqs)\n",
    "\n",
    "df1, df2, freqs = pullDataPSD(cwd + '/Data/S2_Ketamine_SummaryData_LFP-PSD.pickle', 'probe', 0, 'post')\n",
    "trialbytrialPSD(cwd, df1, df2, 'S2_Ketamine', 'probe', 'post', freqs)"
   ]
  },
  {
   "cell_type": "markdown",
   "metadata": {},
   "source": [
    "## 4) Run Time-Frequency Analysis"
   ]
  },
  {
   "cell_type": "code",
   "execution_count": 2,
   "metadata": {},
   "outputs": [
    {
     "name": "stderr",
     "output_type": "stream",
     "text": [
      "/mnt/c/Users/gwendolyn/Documents/Manuscripts/CellReports_Revision/DataForZenodo/Code/plotting.py:266: MatplotlibDeprecationWarning: shading='flat' when X and Y have the same dimensions as C is deprecated since 3.3.  Either specify the corners of the quadrilaterals with X and Y, or pass shading='auto', 'nearest' or 'gouraud', or set rcParams['pcolor.shading'].  This will become an error two minor releases later.\n",
      "  im = matplotlib.pyplot.pcolormesh(t, freq, cwt, cmap = 'bwr', norm = divnorm)\n"
     ]
    }
   ],
   "source": [
    "#Probe\n",
    "df1, df2 = pullDataWave(cwd + '/Data/S1_SummaryData_LFP-PSD.pickle', 'probe', 1)\n",
    "trialbytrialWave(cwd, df1, df2, 'S1_C1_Principal_Column', 'probe')\n",
    "\n",
    "df1, df2 = pullDataWave(cwd + '/Data/S2_SummaryData_LFP-PSD.pickle', 'probe', 0)\n",
    "trialbytrialWave(cwd, df1, df2, 'S2', 'probe')\n",
    "\n",
    "# #Context (LONG RUN TIME)\n",
    "# df1, df2 = pullDataWave(cwd + '/Data/S1_SummaryData_LFP-PSD.pickle', 'context', 1)\n",
    "# trialbytrialWave(cwd, df1, df2, 'S1_C1_Principal_Column', 'context')\n",
    "\n",
    "# df1, df2 = pullDataWave(cwd + '/Data/S2_SummaryData_LFP-PSD.pickle', 'context', 0)\n",
    "# trialbytrialWave(cwd, df1, df2, 'S2', 'context')\n",
    "\n",
    "#Awake Animals \n",
    "df1, df2 = pullDataWave(cwd + '/Data/S1_Awake_SummaryData_LFP-PSD.pickle', 'probe', 0)\n",
    "trialbytrialWave(cwd, df1, df2, 'S1_Awake', 'probe')"
   ]
  },
  {
   "cell_type": "markdown",
   "metadata": {},
   "source": [
    "## 5) Run LFP Analysis"
   ]
  },
  {
   "cell_type": "code",
   "execution_count": null,
   "metadata": {},
   "outputs": [],
   "source": [
    "#Probe\n",
    "df1, df2 = pullData_LFP(cwd + '/Data/S1_SummaryData_LFP-PSD.pickle', 'probe', 1)\n",
    "trialbytrial_LFP(cwd, df1, df2, 'S1_C1_Principal_Column', 'probe', 'anae')\n",
    "\n",
    "df1, df2 = pullData_LFP(cwd + '/Data/S2_SummaryData_LFP-PSD.pickle', 'probe', 0)\n",
    "trialbytrial_LFP(cwd, df1, df2, 'S2', 'probe', 'anae')\n",
    "\n",
    "#Context\n",
    "df1, df2 = pullData_LFP(cwd + '/Data/S1_SummaryData_LFP-PSD.pickle', 'context', 1)\n",
    "trialbytrial_LFP(cwd, df1, df2, 'S1_C1_Principal_Column', 'context', 'anae')\n",
    "\n",
    "df1, df2 = pullData_LFP(cwd + '/Data/S2_SummaryData_LFP-PSD.pickle', 'context', 0)\n",
    "trialbytrial_LFP(cwd, df1, df2, 'S2', 'context', 'anae')\n",
    "\n",
    "#Ketamine \n",
    "df1, df2 = pullData_LFP(cwd + '/Data/S1_Ketamine_SummaryData_LFP-PSD.pickle', 'probe', 1)\n",
    "trialbytrial_LFP(cwd, df1, df2, 'S1_C1_Principal_Column_Ketamine', 'probe', 'anae')\n",
    "\n",
    "df1, df2 = pullData_LFP(cwd + '/Data/S2_Ketamine_SummaryData_LFP-PSD.pickle', 'probe', 0)\n",
    "trialbytrial_LFP(cwd, df1, df2, 'S2_Ketamine', 'probe', 'anae')\n",
    "\n",
    "#Context\n",
    "df1, df2 = pullData_LFP(cwd + '/Data/S1_Ketamine_SummaryData_LFP-PSD.pickle', 'context', 1)\n",
    "trialbytrial_LFP(cwd, df1, df2, 'S1_C1_Principal_Column_Ketamine', 'context', 'anae')\n",
    "\n",
    "df1, df2 = pullData_LFP(cwd + '/Data/S2_Ketamine_SummaryData_LFP-PSD.pickle', 'context', 0)\n",
    "trialbytrial_LFP(cwd, df1, df2, 'S2_Ketamine', 'context', 'anae')\n",
    "\n",
    "#Awake \n",
    "df1, df2 = pullData_LFP(cwd + '/Data/S1_Awake_SummaryData_LFP-PSD.pickle', 'probe', 0)\n",
    "trialbytrial_LFP(cwd, df1, df2, 'S1_Awake', 'probe', 'awake')"
   ]
  },
  {
   "cell_type": "markdown",
   "metadata": {},
   "source": [
    "## 6) Run Distance from Probe Analysis"
   ]
  },
  {
   "cell_type": "code",
   "execution_count": null,
   "metadata": {},
   "outputs": [],
   "source": [
    "df1, df2, preFreqs, postFreqs = pullDataDistProbe(cwd + '/Data/S1_SummaryData_LFP-PSD.pickle', 1)\n",
    "freqbyfreq(cwd, df1, df2, preFreqs, postFreqs, 'S1_C1_Principal_Column')\n",
    "\n",
    "df1, df2, preFreqs, postFreqs = pullDataDistProbe(cwd + '/Data/S1_SummaryData_LFP-PSD.pickle', 0)\n",
    "freqbyfreq(cwd, df1, df2, preFreqs, postFreqs, 'S1_non-Principal_Column')\n",
    "\n",
    "df1, df2, preFreqs, postFreqs = pullDataDistProbe(cwd + '/Data/S2_SummaryData_LFP-PSD.pickle', 0)\n",
    "freqbyfreq(cwd, df1, df2, preFreqs, postFreqs, 'S2')"
   ]
  }
 ],
 "metadata": {
  "kernelspec": {
   "display_name": "Python 3",
   "language": "python",
   "name": "python3"
  },
  "language_info": {
   "codemirror_mode": {
    "name": "ipython",
    "version": 3
   },
   "file_extension": ".py",
   "mimetype": "text/x-python",
   "name": "python",
   "nbconvert_exporter": "python",
   "pygments_lexer": "ipython3",
   "version": "3.6.4"
  }
 },
 "nbformat": 4,
 "nbformat_minor": 2
}
